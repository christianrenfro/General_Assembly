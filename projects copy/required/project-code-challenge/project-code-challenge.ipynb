{
 "cells": [
  {
   "cell_type": "markdown",
   "metadata": {},
   "source": [
    "<img src=\"http://imgur.com/1ZcRyrc.png\" style=\"float: left; margin: 20px; height: 55px\">\n",
    "\n",
    "# Project 1: Python Coding Exercises\n",
    "\n",
    "_Authors: Joseph Nelson (DC) _\n",
    "\n",
    "---"
   ]
  },
  {
   "cell_type": "markdown",
   "metadata": {},
   "source": [
    "The following code challenges are drawn from common exercises used in technical interviews.\n",
    "\n",
    "Please note that there may be several ways to approach each challenge. If you get stuck, try mapping out your approach in pseudocode first. Finally, while solutions to problems like these may be found online, remember that if you copy/paste code that you can't explain, you'll be missing out on the point of the project. The only way to truly learn a new skill is through practice, trial, and error - we can only help you improve by understanding where you are having trouble."
   ]
  },
  {
   "cell_type": "markdown",
   "metadata": {},
   "source": [
    "### Challenge 1: Largest Palindrome\n",
    "A palindromic number reads the same both ways. For example, 1234321 is a palindrome. The largest palindrome made from the product of two two-digit numbers is 9009 = 91 × 99. Find the largest palindrome made from the product of two three-digit numbers. Afterward, write a brief explanation walking through your code's logic in markdown."
   ]
  },
  {
   "cell_type": "code",
   "execution_count": null,
   "metadata": {},
   "outputs": [],
   "source": []
  },
  {
   "cell_type": "code",
   "execution_count": 1,
   "metadata": {},
   "outputs": [],
   "source": [
    "number = 1234321\n",
    "\n",
    "## check to see if the result is a palindrome\n",
    "def check_reverse(number):\n",
    "    normal_list = []\n",
    "    for num in str(number):\n",
    "        normal_list.append(num) \n",
    "    if normal_list == normal_list[::-1]:\n",
    "        return True\n",
    "    else:\n",
    "        return False\n",
    "    \n",
    "##calculate the largest palindrome\n",
    "def a_large_palindrome(num1=999, num2=999):\n",
    "    while check_reverse(num1 * num2) != True:\n",
    "        if num1 >= num2:\n",
    "            num1+=-1\n",
    "        else:\n",
    "            num2+=-1\n",
    "    return num1,num2"
   ]
  },
  {
   "cell_type": "code",
   "execution_count": 122,
   "metadata": {},
   "outputs": [],
   "source": [
    "import collections"
   ]
  },
  {
   "cell_type": "code",
   "execution_count": 157,
   "metadata": {},
   "outputs": [],
   "source": [
    "\n",
    "## work unfinished\n",
    "def all_palindromes_ordered(num1=1000, num2=1000):\n",
    "    palindrome_dict = {}\n",
    "    for i in range(100,num1):\n",
    "        for a in range(100,num2):\n",
    "            if check_reverse(i * a):\n",
    "                palindrome_dict[str(i*a)]=(i,a)\n",
    "    return palindrome_dict"
   ]
  },
  {
   "cell_type": "code",
   "execution_count": 158,
   "metadata": {},
   "outputs": [],
   "source": [
    "palindrome_dict = all_palindromes_ordered()"
   ]
  },
  {
   "cell_type": "code",
   "execution_count": 159,
   "metadata": {},
   "outputs": [],
   "source": [
    "a=[]\n",
    "for k, v in palindrome_dict.items():\n",
    "    a.append(int(k))"
   ]
  },
  {
   "cell_type": "code",
   "execution_count": 160,
   "metadata": {},
   "outputs": [],
   "source": [
    "a.sort()"
   ]
  },
  {
   "cell_type": "code",
   "execution_count": 161,
   "metadata": {},
   "outputs": [
    {
     "data": {
      "text/plain": [
       "906609"
      ]
     },
     "execution_count": 161,
     "metadata": {},
     "output_type": "execute_result"
    }
   ],
   "source": [
    "a[-1]"
   ]
  },
  {
   "cell_type": "markdown",
   "metadata": {},
   "source": [
    "\n",
    "### Challenge 2: Summation of Primes\n",
    "The sum of the primes below 10 is 2 + 3 + 5 + 7 = 17. Find the sum of all the primes below 2,000. Afterward, write a brief explanation walking through your code's logic in markdown."
   ]
  },
  {
   "cell_type": "code",
   "execution_count": 146,
   "metadata": {},
   "outputs": [],
   "source": [
    "prime_set = set()"
   ]
  },
  {
   "cell_type": "code",
   "execution_count": 35,
   "metadata": {},
   "outputs": [
    {
     "name": "stdout",
     "output_type": "stream",
     "text": [
      "2 9\n",
      "3 9\n"
     ]
    },
    {
     "data": {
      "text/plain": [
       "{9}"
      ]
     },
     "execution_count": 35,
     "metadata": {},
     "output_type": "execute_result"
    }
   ],
   "source": [
    "num = 9\n",
    "prime_set = set()\n",
    "for i in range(2,num):\n",
    "    print(i,num)\n",
    "    if num % i == 0:\n",
    "        break\n",
    "prime_set.add(num)\n"
   ]
  },
  {
   "cell_type": "code",
   "execution_count": 32,
   "metadata": {},
   "outputs": [
    {
     "data": {
      "text/plain": [
       "{9}"
      ]
     },
     "execution_count": 32,
     "metadata": {},
     "output_type": "execute_result"
    }
   ],
   "source": [
    "prime_set"
   ]
  },
  {
   "cell_type": "code",
   "execution_count": 108,
   "metadata": {},
   "outputs": [
    {
     "data": {
      "text/plain": [
       "11"
      ]
     },
     "execution_count": 108,
     "metadata": {},
     "output_type": "execute_result"
    }
   ],
   "source": [
    "def primes(num):\n",
    "    lst = []\n",
    "    for i in range(2,num):\n",
    "        lst.append(i)\n",
    "        if num % i == 0:\n",
    "            break\n",
    "    if len(lst) == num-2:\n",
    "        return num\n",
    "primes(11)"
   ]
  },
  {
   "cell_type": "code",
   "execution_count": 188,
   "metadata": {},
   "outputs": [],
   "source": [
    "def sum_prime(max_numb=2000):\n",
    "    prime_sum = 0\n",
    "    num = 2\n",
    "    \"\"\"\n",
    "    find all the primes below a number that is given to you...\n",
    "    someone gives you 2000, find all primes below it and sum them\n",
    "    \"\"\"\n",
    "    while num < max_numb:\n",
    "        num+=1\n",
    "        if primes(num) == None:\n",
    "            pass\n",
    "        else:\n",
    "            prime_sum += primes(num)\n",
    "    return prime_sum\n"
   ]
  },
  {
   "cell_type": "code",
   "execution_count": 189,
   "metadata": {},
   "outputs": [
    {
     "data": {
      "text/plain": [
       "277048"
      ]
     },
     "execution_count": 189,
     "metadata": {},
     "output_type": "execute_result"
    }
   ],
   "source": [
    "sum_prime(2000)"
   ]
  },
  {
   "cell_type": "markdown",
   "metadata": {},
   "source": [
    "### Challenge 3: Multiples of 3 and 5\n",
    "If we list all of the natural numbers below 10 that are multiples of 3 or 5, we get 3, 5, 6, and 9. The sum of these multiples is 23. Find the sum of all the multiples of 3 and 5 below 1,000. Afterward, write a brief explanation walking through your code's logic in markdown."
   ]
  },
  {
   "cell_type": "code",
   "execution_count": 139,
   "metadata": {},
   "outputs": [
    {
     "data": {
      "text/plain": [
       "266333"
      ]
     },
     "execution_count": 139,
     "metadata": {},
     "output_type": "execute_result"
    }
   ],
   "source": [
    "z = 3\n",
    "x = 5\n",
    "m_list = []\n",
    "\n",
    "def appender(num, a_list):\n",
    "    y = 1\n",
    "    while num*y < 1000:\n",
    "        m_list.append(num*y)\n",
    "        y+=1\n",
    "    return m_list\n",
    "        \n",
    "m_list = appender(z,m_list)\n",
    "m_list = appender(x,m_list)\n",
    "\n",
    "\n",
    "sum(m_list)"
   ]
  },
  {
   "cell_type": "markdown",
   "metadata": {},
   "source": [
    "### Challenge 4: String Compressor\n",
    "Implement a method to perform basic string compression using the counts of repeated characters. (This is called run-length encoding.) For example, the string \"aabcccccaaa\" would become a2b1c5a3. If the “compressed” string would not become smaller than the original string, your method should return the original string. You can assume the string has only uppercase and lowercase letters (a–z). Specify whether your solution is case sensitive or case insensitive and what you would need to change to make it the other. Afterward, write a brief explanation walking through your code's logic in markdown."
   ]
  },
  {
   "cell_type": "code",
   "execution_count": 195,
   "metadata": {},
   "outputs": [
    {
     "data": {
      "text/plain": [
       "'a'"
      ]
     },
     "execution_count": 195,
     "metadata": {},
     "output_type": "execute_result"
    }
   ],
   "source": [
    "string = \"aabcccccaaa\"\n",
    "\n",
    "a = [item for item in string]\n",
    "new_list = []\n",
    "while len(a) > 0:\n",
    "    if a.pop() in new_list:\n",
    "    \n",
    "    a.pop()\n",
    "    \n",
    "\n",
    "\n",
    "\n"
   ]
  },
  {
   "cell_type": "code",
   "execution_count": 272,
   "metadata": {},
   "outputs": [
    {
     "name": "stdout",
     "output_type": "stream",
     "text": [
      "a 1\n",
      "a 2\n",
      "b 3\n",
      "c 4\n",
      "c 5\n",
      "c 6\n",
      "c 7\n",
      "c 8\n",
      "a 9\n",
      "a 10\n",
      "a 11\n"
     ]
    }
   ],
   "source": [
    "string = \"aabcccccaaa\"\n",
    "\n",
    "for idx, val in enumerate(string):\n",
    "    print(val, idx+1)"
   ]
  },
  {
   "cell_type": "code",
   "execution_count": 246,
   "metadata": {},
   "outputs": [
    {
     "name": "stdout",
     "output_type": "stream",
     "text": [
      "1\n",
      "a\n",
      "{'a': 1}\n",
      "{'a': 1}\n",
      "2\n",
      "a\n",
      "{'a': 1}\n",
      "{'a': 1}\n",
      "3\n",
      "b\n",
      "{'a': 1, 'c': 1}\n",
      "{'a': 1, 'c': 2}\n",
      "4\n",
      "c\n",
      "{'a': 1, 'c': 2}\n",
      "{'a': 1, 'c': 3}\n",
      "5\n",
      "c\n",
      "{'a': 1, 'c': 3}\n",
      "{'a': 1, 'c': 4}\n",
      "6\n",
      "c\n",
      "{'a': 1, 'c': 4}\n",
      "{'a': 1, 'c': 5}\n",
      "7\n",
      "c\n",
      "{'a': 1, 'c': 5}\n",
      "{'a': 1, 'c': 5}\n",
      "8\n",
      "c\n",
      "{'a': 1, 'c': 5}\n",
      "{'a': 2, 'c': 5}\n",
      "9\n",
      "a\n",
      "{'a': 2, 'c': 5}\n",
      "{'a': 3, 'c': 5}\n",
      "10\n",
      "a\n",
      "{'a': 3, 'c': 5}\n"
     ]
    },
    {
     "ename": "IndexError",
     "evalue": "list index out of range",
     "output_type": "error",
     "traceback": [
      "\u001b[0;31m---------------------------------------------------------------------------\u001b[0m",
      "\u001b[0;31mIndexError\u001b[0m                                Traceback (most recent call last)",
      "\u001b[0;32m<ipython-input-246-3673cdaebde9>\u001b[0m in \u001b[0;36m<module>\u001b[0;34m\u001b[0m\n\u001b[1;32m     22\u001b[0m             \u001b[0mcounted_dict\u001b[0m\u001b[0;34m[\u001b[0m\u001b[0mchar_lst\u001b[0m\u001b[0;34m[\u001b[0m\u001b[0mindex_num\u001b[0m\u001b[0;34m]\u001b[0m\u001b[0;34m]\u001b[0m \u001b[0;34m=\u001b[0m \u001b[0;36m1\u001b[0m\u001b[0;34m\u001b[0m\u001b[0;34m\u001b[0m\u001b[0m\n\u001b[1;32m     23\u001b[0m         \u001b[0mprint\u001b[0m\u001b[0;34m(\u001b[0m\u001b[0mcounted_dict\u001b[0m\u001b[0;34m)\u001b[0m\u001b[0;34m\u001b[0m\u001b[0;34m\u001b[0m\u001b[0m\n\u001b[0;32m---> 24\u001b[0;31m         \u001b[0;32mif\u001b[0m \u001b[0mchar_lst\u001b[0m\u001b[0;34m[\u001b[0m\u001b[0mindex_num\u001b[0m\u001b[0;34m]\u001b[0m \u001b[0;34m==\u001b[0m \u001b[0mchar_lst\u001b[0m\u001b[0;34m[\u001b[0m\u001b[0mindex_num\u001b[0m\u001b[0;34m+\u001b[0m\u001b[0;36m1\u001b[0m\u001b[0;34m]\u001b[0m\u001b[0;34m:\u001b[0m\u001b[0;34m\u001b[0m\u001b[0;34m\u001b[0m\u001b[0m\n\u001b[0m\u001b[1;32m     25\u001b[0m             \u001b[0mcounted_dict\u001b[0m\u001b[0;34m[\u001b[0m\u001b[0mchar_lst\u001b[0m\u001b[0;34m[\u001b[0m\u001b[0mindex_num\u001b[0m\u001b[0;34m]\u001b[0m\u001b[0;34m]\u001b[0m \u001b[0;34m+=\u001b[0m \u001b[0;36m1\u001b[0m\u001b[0;34m\u001b[0m\u001b[0;34m\u001b[0m\u001b[0m\n\u001b[1;32m     26\u001b[0m         \u001b[0mprint\u001b[0m\u001b[0;34m(\u001b[0m\u001b[0mcounted_dict\u001b[0m\u001b[0;34m)\u001b[0m\u001b[0;34m\u001b[0m\u001b[0;34m\u001b[0m\u001b[0m\n",
      "\u001b[0;31mIndexError\u001b[0m: list index out of range"
     ]
    }
   ],
   "source": [
    "string = \"aabcccccaaa\"\n",
    "\"\"\"\n",
    "for each letter in the string, sum all the letters that are the same that are immediate after it\n",
    "\n",
    "loop thorugh letters\n",
    "take l\n",
    "if letter = letter+1, a\n",
    "\"\"\"\n",
    "\n",
    "\n",
    "char_lst = [char for char in string]\n",
    "counted_dict = {}\n",
    "index_num=1\n",
    "str_cnt_dct = {}\n",
    "while index_num+1 < len(a):\n",
    "    for char in char_lst:\n",
    "        print(index_num)\n",
    "        print(char)\n",
    "        if char in counted_dict:\n",
    "            pass\n",
    "        else:\n",
    "            counted_dict[char_lst[index_num]] = 1\n",
    "        print(counted_dict)\n",
    "        if char_lst[index_num] == char_lst[index_num+1]:\n",
    "            counted_dict[char_lst[index_num]] += 1\n",
    "        print(counted_dict)\n",
    "        index_num+=1"
   ]
  },
  {
   "cell_type": "code",
   "execution_count": null,
   "metadata": {},
   "outputs": [],
   "source": []
  },
  {
   "cell_type": "code",
   "execution_count": 234,
   "metadata": {},
   "outputs": [
    {
     "data": {
      "text/plain": [
       "{'a': 2, 'b': 1, 'c': 1}"
      ]
     },
     "execution_count": 234,
     "metadata": {},
     "output_type": "execute_result"
    }
   ],
   "source": [
    "counted_dict"
   ]
  },
  {
   "cell_type": "code",
   "execution_count": 252,
   "metadata": {},
   "outputs": [
    {
     "name": "stdout",
     "output_type": "stream",
     "text": [
      "0\n",
      "a\n",
      "['a']\n",
      "['a']\n",
      "1\n",
      "b\n",
      "['a', 'a']\n"
     ]
    },
    {
     "ename": "TypeError",
     "evalue": "list indices must be integers or slices, not str",
     "output_type": "error",
     "traceback": [
      "\u001b[0;31m---------------------------------------------------------------------------\u001b[0m",
      "\u001b[0;31mTypeError\u001b[0m                                 Traceback (most recent call last)",
      "\u001b[0;32m<ipython-input-252-b2a7b29ffe62>\u001b[0m in \u001b[0;36m<module>\u001b[0;34m\u001b[0m\n\u001b[1;32m     20\u001b[0m         \u001b[0mprint\u001b[0m\u001b[0;34m(\u001b[0m\u001b[0mcounted_lst\u001b[0m\u001b[0;34m)\u001b[0m\u001b[0;34m\u001b[0m\u001b[0;34m\u001b[0m\u001b[0m\n\u001b[1;32m     21\u001b[0m         \u001b[0;32mif\u001b[0m \u001b[0mchar_lst\u001b[0m\u001b[0;34m[\u001b[0m\u001b[0mindex_num\u001b[0m\u001b[0;34m]\u001b[0m \u001b[0;34m==\u001b[0m \u001b[0mchar_lst\u001b[0m\u001b[0;34m[\u001b[0m\u001b[0mindex_num\u001b[0m\u001b[0;34m+\u001b[0m\u001b[0;36m1\u001b[0m\u001b[0;34m]\u001b[0m\u001b[0;34m:\u001b[0m\u001b[0;34m\u001b[0m\u001b[0;34m\u001b[0m\u001b[0m\n\u001b[0;32m---> 22\u001b[0;31m             \u001b[0mcounted_lst\u001b[0m\u001b[0;34m[\u001b[0m\u001b[0mchar_lst\u001b[0m\u001b[0;34m[\u001b[0m\u001b[0mindex_num\u001b[0m\u001b[0;34m]\u001b[0m\u001b[0;34m]\u001b[0m \u001b[0;34m+=\u001b[0m \u001b[0;36m1\u001b[0m\u001b[0;34m\u001b[0m\u001b[0;34m\u001b[0m\u001b[0m\n\u001b[0m\u001b[1;32m     23\u001b[0m         \u001b[0mprint\u001b[0m\u001b[0;34m(\u001b[0m\u001b[0mcounted_lst\u001b[0m\u001b[0;34m)\u001b[0m\u001b[0;34m\u001b[0m\u001b[0;34m\u001b[0m\u001b[0m\n\u001b[1;32m     24\u001b[0m         \u001b[0mindex_num\u001b[0m\u001b[0;34m+=\u001b[0m\u001b[0;36m1\u001b[0m\u001b[0;34m\u001b[0m\u001b[0;34m\u001b[0m\u001b[0m\n",
      "\u001b[0;31mTypeError\u001b[0m: list indices must be integers or slices, not str"
     ]
    }
   ],
   "source": [
    "string = \"aabcccccaaa\"\n",
    "\"\"\"\n",
    "for each letter in the string, sum all the letters that are the same that are immediate after it\n",
    "\n",
    "loop thorugh letters\n",
    "take l\n",
    "if letter = letter+1, a\n",
    "\"\"\"\n",
    "\n",
    "\n",
    "char_lst = [char for char in string]\n",
    "counted_lst = []\n",
    "index_num=0\n",
    "str_cnt_dct = {}\n",
    "while index_num+1 < len(a):\n",
    "    for char in char_lst:\n",
    "        print(index_num)\n",
    "        print(char)\n",
    "        pop_char = char_lst.pop(0)\n",
    "        if char_lst[-1] == pop_char:\n",
    "            counted_lst.append\n",
    "        counted_lst += pop_char\n",
    "        print(counted_lst)\n",
    "            counted_lst[char_lst[index_num]] += 1\n",
    "        print(counted_lst)\n",
    "        index_num+=1"
   ]
  },
  {
   "cell_type": "markdown",
   "metadata": {},
   "source": [
    "### *BONUS* Challenge: FizzBuzz\n",
    "Write a program that prints all of the numbers from 1 to 100. For multiples of 3, instead of the number, print \"Fizz;\" for multiples of 5, print \"Buzz.\" For numbers that are multiples of both 3 and 5, print \"FizzBuzz.\" Afterward, write a brief explanation walking through your code's logic in markdown."
   ]
  },
  {
   "cell_type": "code",
   "execution_count": 269,
   "metadata": {},
   "outputs": [
    {
     "name": "stdout",
     "output_type": "stream",
     "text": [
      "1\n",
      "2\n",
      "Fizz\n",
      "4\n",
      "Buzz\n",
      "Fizz\n",
      "7\n",
      "8\n",
      "Fizz\n",
      "Buzz\n",
      "11\n",
      "Fizz\n",
      "13\n",
      "14\n",
      "FizzBuzz\n",
      "16\n",
      "17\n",
      "Fizz\n",
      "19\n",
      "Buzz\n",
      "Fizz\n",
      "22\n",
      "23\n",
      "Fizz\n",
      "Buzz\n",
      "26\n",
      "Fizz\n",
      "28\n",
      "29\n",
      "FizzBuzz\n",
      "31\n",
      "32\n",
      "Fizz\n",
      "34\n",
      "Buzz\n",
      "Fizz\n",
      "37\n",
      "38\n",
      "Fizz\n",
      "Buzz\n",
      "41\n",
      "Fizz\n",
      "43\n",
      "44\n",
      "FizzBuzz\n",
      "46\n",
      "47\n",
      "Fizz\n",
      "49\n",
      "Buzz\n",
      "Fizz\n",
      "52\n",
      "53\n",
      "Fizz\n",
      "Buzz\n",
      "56\n",
      "Fizz\n",
      "58\n",
      "59\n",
      "FizzBuzz\n",
      "61\n",
      "62\n",
      "Fizz\n",
      "64\n",
      "Buzz\n",
      "Fizz\n",
      "67\n",
      "68\n",
      "Fizz\n",
      "Buzz\n",
      "71\n",
      "Fizz\n",
      "73\n",
      "74\n",
      "FizzBuzz\n",
      "76\n",
      "77\n",
      "Fizz\n",
      "79\n",
      "Buzz\n",
      "Fizz\n",
      "82\n",
      "83\n",
      "Fizz\n",
      "Buzz\n",
      "86\n",
      "Fizz\n",
      "88\n",
      "89\n",
      "FizzBuzz\n",
      "91\n",
      "92\n",
      "Fizz\n",
      "94\n",
      "Buzz\n",
      "Fizz\n",
      "97\n",
      "98\n",
      "Fizz\n"
     ]
    }
   ],
   "source": [
    "num_range = 100\n",
    "for number in range(1,num_range):\n",
    "    if  number % 15 == 0:\n",
    "        print('FizzBuzz')\n",
    "    elif number % 3  == 0:\n",
    "        print('Fizz')\n",
    "    elif number %5 == 0:\n",
    "        print('Buzz')\n",
    "    else: \n",
    "        print(number)"
   ]
  },
  {
   "cell_type": "markdown",
   "metadata": {},
   "source": [
    "# in class question"
   ]
  },
  {
   "cell_type": "code",
   "execution_count": 96,
   "metadata": {},
   "outputs": [
    {
     "ename": "IndentationError",
     "evalue": "unexpected indent (<ipython-input-96-e8b9ec29060b>, line 3)",
     "output_type": "error",
     "traceback": [
      "\u001b[0;36m  File \u001b[0;32m\"<ipython-input-96-e8b9ec29060b>\"\u001b[0;36m, line \u001b[0;32m3\u001b[0m\n\u001b[0;31m    my_lst = []\u001b[0m\n\u001b[0m    ^\u001b[0m\n\u001b[0;31mIndentationError\u001b[0m\u001b[0;31m:\u001b[0m unexpected indent\n"
     ]
    }
   ],
   "source": [
    "string = 'bayrie'\n",
    "lst = ['baby', 'barbie']\n",
    "    my_lst = []\n",
    "    for item in lst:\n",
    "        len_cnt = 0\n",
    "        for i in item:\n",
    "            if i in string:\n",
    "                len_cnt += 1\n",
    "        if len_cnt == len(item):\n",
    "            my_lst.append(item)\n",
    "print(my_lst)"
   ]
  },
  {
   "cell_type": "code",
   "execution_count": 99,
   "metadata": {},
   "outputs": [
    {
     "data": {
      "text/plain": [
       "['baby', 'barbie']"
      ]
     },
     "execution_count": 99,
     "metadata": {},
     "output_type": "execute_result"
    }
   ],
   "source": [
    "\n",
    "def my_func(string, lst, mult=True):\n",
    "    my_lst = []\n",
    "    for item in lst:\n",
    "        len_cnt = 0\n",
    "        for i in item:\n",
    "            if i in string:\n",
    "                len_cnt += 1\n",
    "        if len_cnt == len(item):\n",
    "            my_lst.append(item)\n",
    "    return my_lst\n",
    "my_func('bbbayrie', ['baby', 'barbie'])\n",
    "\n"
   ]
  },
  {
   "cell_type": "code",
   "execution_count": null,
   "metadata": {},
   "outputs": [],
   "source": []
  }
 ],
 "metadata": {
  "anaconda-cloud": {},
  "kernelspec": {
   "display_name": "Python 3",
   "language": "python",
   "name": "python3"
  },
  "language_info": {
   "codemirror_mode": {
    "name": "ipython",
    "version": 3
   },
   "file_extension": ".py",
   "mimetype": "text/x-python",
   "name": "python",
   "nbconvert_exporter": "python",
   "pygments_lexer": "ipython3",
   "version": "3.7.1"
  }
 },
 "nbformat": 4,
 "nbformat_minor": 2
}
